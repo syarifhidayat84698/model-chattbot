{
 "cells": [
  {
   "cell_type": "markdown",
   "id": "75cb48e6",
   "metadata": {
    "papermill": {
     "duration": 0.006345,
     "end_time": "2023-02-23T05:12:30.015531",
     "exception": false,
     "start_time": "2023-02-23T05:12:30.009186",
     "status": "completed"
    },
    "tags": []
   },
   "source": [
    "## **Import and load the data file**"
   ]
  },
  {
   "cell_type": "code",
   "execution_count": 1,
   "id": "0d91f7ee",
   "metadata": {
    "execution": {
     "iopub.execute_input": "2023-02-23T05:12:30.045104Z",
     "iopub.status.busy": "2023-02-23T05:12:30.044434Z",
     "iopub.status.idle": "2023-02-23T05:12:32.381685Z",
     "shell.execute_reply": "2023-02-23T05:12:32.379943Z"
    },
    "id": "09b08e4f",
    "outputId": "930efa0a-cb9d-4527-d869-6b432af79909",
    "papermill": {
     "duration": 2.350917,
     "end_time": "2023-02-23T05:12:32.386449",
     "exception": false,
     "start_time": "2023-02-23T05:12:30.035532",
     "status": "completed"
    },
    "tags": []
   },
   "outputs": [
    {
     "name": "stderr",
     "output_type": "stream",
     "text": [
      "[nltk_data] Downloading package punkt to /home/mangg/nltk_data...\n",
      "[nltk_data]   Package punkt is already up-to-date!\n"
     ]
    },
    {
     "data": {
      "text/plain": [
       "True"
      ]
     },
     "execution_count": 1,
     "metadata": {},
     "output_type": "execute_result"
    }
   ],
   "source": [
    "import nltktrain/Tingkat 1/Training_261590\n",
    "nltk.download('punkt')#Sentence tokenizer"
   ]
  },
  {
   "cell_type": "code",
   "execution_count": 2,
   "id": "d3775770",
   "metadata": {
    "execution": {
     "iopub.execute_input": "2023-02-23T05:12:32.405254Z",
     "iopub.status.busy": "2023-02-23T05:12:32.404732Z",
     "iopub.status.idle": "2023-02-23T05:12:32.411034Z",
     "shell.execute_reply": "2023-02-23T05:12:32.409821Z"
    },
    "id": "37932349",
    "papermill": {
     "duration": 0.018099,
     "end_time": "2023-02-23T05:12:32.414377",
     "exception": false,
     "start_time": "2023-02-23T05:12:32.396278",
     "status": "completed"
    },
    "tags": []
   },
   "outputs": [],
   "source": [
    "import nltk\n",
    "from nltk.stem import WordNetLemmatizer\n",
    "lemmatizer = WordNetLemmatizer()\n",
    "import json\n",
    "import pickle\n",
    "import warnings\n",
    "warnings.filterwarnings('ignore')"
   ]
  },
  {
   "cell_type": "code",
   "execution_count": 3,
   "id": "577ce419",
   "metadata": {
    "execution": {
     "iopub.execute_input": "2023-02-23T05:12:32.433933Z",
     "iopub.status.busy": "2023-02-23T05:12:32.432635Z",
     "iopub.status.idle": "2023-02-23T05:12:41.199368Z",
     "shell.execute_reply": "2023-02-23T05:12:41.197655Z"
    },
    "id": "29f7ae99",
    "papermill": {
     "duration": 8.780125,
     "end_time": "2023-02-23T05:12:41.202711",
     "exception": false,
     "start_time": "2023-02-23T05:12:32.422586",
     "status": "completed"
    },
    "tags": []
   },
   "outputs": [
    {
     "name": "stderr",
     "output_type": "stream",
     "text": [
      "2023-11-15 12:08:08.939719: I tensorflow/core/util/port.cc:111] oneDNN custom operations are on. You may see slightly different numerical results due to floating-point round-off errors from different computation orders. To turn them off, set the environment variable `TF_ENABLE_ONEDNN_OPTS=0`.\n",
      "2023-11-15 12:08:08.941655: I tensorflow/tsl/cuda/cudart_stub.cc:28] Could not find cuda drivers on your machine, GPU will not be used.\n",
      "2023-11-15 12:08:08.975305: E tensorflow/compiler/xla/stream_executor/cuda/cuda_dnn.cc:9342] Unable to register cuDNN factory: Attempting to register factory for plugin cuDNN when one has already been registered\n",
      "2023-11-15 12:08:08.975338: E tensorflow/compiler/xla/stream_executor/cuda/cuda_fft.cc:609] Unable to register cuFFT factory: Attempting to register factory for plugin cuFFT when one has already been registered\n",
      "2023-11-15 12:08:08.975359: E tensorflow/compiler/xla/stream_executor/cuda/cuda_blas.cc:1518] Unable to register cuBLAS factory: Attempting to register factory for plugin cuBLAS when one has already been registered\n",
      "2023-11-15 12:08:08.980748: I tensorflow/tsl/cuda/cudart_stub.cc:28] Could not find cuda drivers on your machine, GPU will not be used.\n",
      "2023-11-15 12:08:08.981319: I tensorflow/core/platform/cpu_feature_guard.cc:182] This TensorFlow binary is optimized to use available CPU instructions in performance-critical operations.\n",
      "To enable the following instructions: AVX2 AVX512F AVX512_VNNI FMA, in other operations, rebuild TensorFlow with the appropriate compiler flags.\n",
      "2023-11-15 12:08:10.162070: W tensorflow/compiler/tf2tensorrt/utils/py_utils.cc:38] TF-TRT Warning: Could not find TensorRT\n"
     ]
    }
   ],
   "source": [
    "import numpy as np\n",
    "import tensorflow as tf\n",
    "from keras.models import Sequential\n",
    "from keras.layers import Dense, Activation, Dropout\n",
    "from tensorflow.keras.optimizers import SGD\n",
    "import random"
   ]
  },
  {
   "cell_type": "markdown",
   "id": "4164ac69",
   "metadata": {
    "id": "0ec5134c",
    "papermill": {
     "duration": 0.006582,
     "end_time": "2023-02-23T05:12:41.216356",
     "exception": false,
     "start_time": "2023-02-23T05:12:41.209774",
     "status": "completed"
    },
    "tags": []
   },
   "source": [
    "# **Preprocessing**"
   ]
  },
  {
   "cell_type": "code",
   "execution_count": 4,
   "id": "bb20a5e6",
   "metadata": {
    "execution": {
     "iopub.execute_input": "2023-02-23T05:12:41.233240Z",
     "iopub.status.busy": "2023-02-23T05:12:41.232416Z",
     "iopub.status.idle": "2023-02-23T05:12:41.255943Z",
     "shell.execute_reply": "2023-02-23T05:12:41.254538Z"
    },
    "id": "2a27b3fe",
    "papermill": {
     "duration": 0.035369,
     "end_time": "2023-02-23T05:12:41.258823",
     "exception": false,
     "start_time": "2023-02-23T05:12:41.223454",
     "status": "completed"
    },
    "tags": []
   },
   "outputs": [],
   "source": [
    "words=[]\n",
    "classes = []\n",
    "documents = []\n",
    "ignore_words = ['?', '!']\n",
    "data_file = open('intents.json').read() # read json file\n",
    "intents = json.loads(data_file) # load json file"
   ]
  },
  {
   "cell_type": "code",
   "execution_count": 5,
   "id": "636dbf65",
   "metadata": {
    "execution": {
     "iopub.execute_input": "2023-02-23T05:12:41.288695Z",
     "iopub.status.busy": "2023-02-23T05:12:41.287939Z",
     "iopub.status.idle": "2023-02-23T05:12:41.346680Z",
     "shell.execute_reply": "2023-02-23T05:12:41.345412Z"
    },
    "id": "d1fce670",
    "papermill": {
     "duration": 0.070578,
     "end_time": "2023-02-23T05:12:41.349850",
     "exception": false,
     "start_time": "2023-02-23T05:12:41.279272",
     "status": "completed"
    },
    "tags": []
   },
   "outputs": [],
   "source": [
    "for intent in intents['intents']:\n",
    "    for pattern in intent['patterns']:\n",
    "        #tokenize each word\n",
    "        w = nltk.word_tokenize(pattern)\n",
    "        words.extend(w)# add each elements into list\n",
    "        #combination between patterns and intents\n",
    "        documents.append((w, intent['tag']))#add single element into end of list\n",
    "        # add to tag in our classes list\n",
    "        if intent['tag'] not in classes:\n",
    "            classes.append(intent['tag'])"
   ]
  },
  {
   "cell_type": "code",
   "execution_count": 6,
   "id": "6c496469",
   "metadata": {
    "execution": {
     "iopub.execute_input": "2023-02-23T05:12:41.365949Z",
     "iopub.status.busy": "2023-02-23T05:12:41.365483Z",
     "iopub.status.idle": "2023-02-23T05:12:41.453466Z",
     "shell.execute_reply": "2023-02-23T05:12:41.451892Z"
    },
    "id": "caf5ffe1",
    "outputId": "97496bb7-e2d7-4243-d2a7-b7512e192458",
    "papermill": {
     "duration": 0.099728,
     "end_time": "2023-02-23T05:12:41.456789",
     "exception": false,
     "start_time": "2023-02-23T05:12:41.357061",
     "status": "completed"
    },
    "tags": []
   },
   "outputs": [
    {
     "name": "stderr",
     "output_type": "stream",
     "text": [
      "[nltk_data] Downloading package wordnet to /home/mangg/nltk_data...\n",
      "[nltk_data]   Package wordnet is already up-to-date!\n"
     ]
    },
    {
     "data": {
      "text/plain": [
       "True"
      ]
     },
     "execution_count": 6,
     "metadata": {},
     "output_type": "execute_result"
    }
   ],
   "source": [
    "nltk.download('wordnet') #lexical database for the English language"
   ]
  },
  {
   "cell_type": "code",
   "execution_count": 7,
   "id": "8826e696",
   "metadata": {
    "execution": {
     "iopub.execute_input": "2023-02-23T05:12:41.473353Z",
     "iopub.status.busy": "2023-02-23T05:12:41.472806Z",
     "iopub.status.idle": "2023-02-23T05:12:41.933784Z",
     "shell.execute_reply": "2023-02-23T05:12:41.932370Z"
    },
    "id": "1bdda46f",
    "outputId": "52603b6e-b9b7-4de9-b8ae-16edbdceea76",
    "papermill": {
     "duration": 0.472743,
     "end_time": "2023-02-23T05:12:41.936812",
     "exception": false,
     "start_time": "2023-02-23T05:12:41.464069",
     "status": "completed"
    },
    "tags": []
   },
   "outputs": [
    {
     "name": "stderr",
     "output_type": "stream",
     "text": [
      "[nltk_data] Downloading package omw-1.4 to /home/mangg/nltk_data...\n",
      "[nltk_data]   Package omw-1.4 is already up-to-date!\n"
     ]
    },
    {
     "data": {
      "text/plain": [
       "True"
      ]
     },
     "execution_count": 7,
     "metadata": {},
     "output_type": "execute_result"
    }
   ],
   "source": [
    "nltk.download('omw-1.4')"
   ]
  },
  {
   "cell_type": "markdown",
   "id": "33220daa",
   "metadata": {
    "papermill": {
     "duration": 0.006918,
     "end_time": "2023-02-23T05:12:41.951630",
     "exception": false,
     "start_time": "2023-02-23T05:12:41.944712",
     "status": "completed"
    },
    "tags": []
   },
   "source": [
    "Now we will lemmatize each word and remove duplicate words from the list. \n",
    "- Lemmatizing is the process of converting a word into its lemma form and then creating a pickle file to store the Python objects which we will use while predicting."
   ]
  },
  {
   "cell_type": "code",
   "execution_count": 8,
   "id": "ea121ce6",
   "metadata": {
    "execution": {
     "iopub.execute_input": "2023-02-23T05:12:41.968467Z",
     "iopub.status.busy": "2023-02-23T05:12:41.967918Z",
     "iopub.status.idle": "2023-02-23T05:12:44.148161Z",
     "shell.execute_reply": "2023-02-23T05:12:44.146037Z"
    },
    "id": "6dbaf343",
    "outputId": "155e2bb5-52bc-4273-f968-767921210285",
    "papermill": {
     "duration": 2.192283,
     "end_time": "2023-02-23T05:12:44.151229",
     "exception": false,
     "start_time": "2023-02-23T05:12:41.958946",
     "status": "completed"
    },
    "tags": []
   },
   "outputs": [
    {
     "name": "stdout",
     "output_type": "stream",
     "text": [
      "79 documents\n",
      " [(['Hai'], 'ucapan'), (['Apa', 'kabar', '?'], 'ucapan'), (['Is', 'anyone', 'there', '?'], 'ucapan'), (['Halo'], 'ucapan'), (['Halo', '?'], 'ucapan'), (['Ada', 'Apa', '?'], 'ucapan'), (['Apa', 'Kabar', 'mu', '?'], 'ucapan'), (['heyy'], 'ucapan'), (['Apa', '?'], 'ucapan'), (['?', '?', '?', '?', '?', '?', '?', '?'], 'ucapan'), (['cya'], 'selamat_tinggal'), (['See', 'you'], 'selamat_tinggal'), (['bye', 'bye'], 'selamat_tinggal'), (['Senang', 'ketemu', 'kembali'], 'selamat_tinggal'), (['Goodbye'], 'selamat_tinggal'), (['Saya', 'pergi'], 'selamat_tinggal'), (['Bye'], 'selamat_tinggal'), (['Semoga', 'hari', 'indah'], 'selamat_tinggal'), (['Bicara', 'denganmu', 'nanti'], 'selamat_tinggal'), (['ttyl'], 'selamat_tinggal'), (['Saya', 'akan', 'pergi'], 'selamat_tinggal'), (['gtg'], 'selamat_tinggal'), (['apa', 'nama', 'pengembang', 'anda', '?'], 'pembuat'), (['apa', 'nama', 'kreator', 'anda', '?'], 'pembuat'), (['siapa', 'nama', 'pengembangnya'], 'pembuat'), (['siapa', 'nama', 'kreatornya'], 'pembuat'), (['siapa', 'kreator', 'kamu'], 'pembuat'), (['siapa', 'developer', 'kamu'], 'pembuat'), (['siapa', 'kreatornya'], 'pembuat'), (['siapa', 'pengembangnya'], 'pembuat'), (['developers'], 'pembuat'), (['kamu', 'dibuat', 'oleh'], 'pembuat'), (['kamu', 'dibuat', 'oleh', 'siapa'], 'pembuat'), (['siapa', 'yang', 'membuat', 'kamu'], 'pembuat'), (['siapa', 'yang', 'membuat'], 'pembuat'), (['kreator'], 'pembuat'), (['siapa', 'membuat', 'kamu'], 'pembuat'), (['siapa', 'yang', 'desain', 'kamu'], 'pembuat'), (['nama'], 'name'), (['nama', 'kamu'], 'name'), (['apa', 'kamu', 'punya', 'nama'], 'name'), (['apa', 'nama', 'panggilan', 'kamu'], 'name'), (['siapa', 'namamu'], 'name'), (['siapa', 'panggilanmu'], 'name'), (['siapa', 'namamu'], 'name'), (['siapa', 'panggilanmu'], 'name'), (['siapa', 'kamu'], 'name'), (['siapa', 'ini'], 'name'), (['dengan', 'siapa', 'saya', 'berbicara'], 'name'), (['siapa', 'yang', 'berbicara', 'dengan', 'saya'], 'name'), (['siapa'], 'name'), (['okk'], 'sapaan'), (['okie'], 'sapaan'), (['kerja', 'bagus'], 'sapaan'), (['okee'], 'sapaan'), (['good', 'job'], 'sapaan'), (['thanks'], 'sapaan'), (['Thank', 'you'], 'sapaan'), (['its', 'ok'], 'sapaan'), (['terimakasih'], 'sapaan'), (['terima', 'kasih'], 'sapaan'), (['terimakasih', 'telah', 'membantu'], 'sapaan'), (['siapp'], 'sapaan'), (['okay'], 'sapaan'), (['apa', 'yang', 'bisa', 'kamu', 'lakukan'], 'tanya'), (['hal', 'apa', 'yang', 'dapat', 'kamu', 'lakukan'], 'tanya'), (['yang', 'dapat', 'kamu', 'lakukan'], 'tanya'), (['apa', 'yang', 'bisa', 'kamu', 'bantu', 'untuk', 'aku'], 'tanya'), (['bisakah', 'anda', 'membantu', 'saya'], 'tanya'), (['bagaimana', 'cara', 'menghilangkan', 'stress', '?'], 'atasi_stress_2'), (['Apa', 'strategi', 'yang', 'efektif', 'untuk', 'meredakan', 'stres', 'dan', 'menciptakan', 'perasaan', 'lebih', 'tenang', '?'], 'atasi_stress_2'), (['Bagaimana', 'Anda', 'dapat', 'membantu', 'saya', 'mengatasi', 'stres', 'dan', 'kecemasan', '?'], 'sputar_stress'), (['apa', 'saja', 'gejala', 'yang', 'disebabkan', 'oleh', 'stres', '?'], 'sputar_stress'), (['Gejala', 'Stress'], 'sputar_stress'), (['apa', 'yang', 'di', 'maksud', 'dengan', 'tingkat', 'stres', 'sangat', 'rendah', '?'], 'tingkat_stress_0'), (['apa', 'yang', 'di', 'maksud', 'dengan', 'tingkat', 'stres', 'rendah', '?'], 'tingkat_stress_1'), (['apa', 'yang', 'dimaksud', 'dengan', 'tingkat', 'stres', 'sedang', '?'], 'tingkat_stress_2'), (['apa', 'yang', 'dimaksud', 'dengan', 'tingkat', 'stres', 'tinggi', '?'], 'tingkat_stress_3'), (['apakah', 'stress', 'menyebabkan', 'masalah', 'kesehatan', '?'], 'tingkat_stress')] \n",
      "\n",
      "13 classes\n",
      " ['atasi_stress_2', 'name', 'pembuat', 'sapaan', 'selamat_tinggal', 'sputar_stress', 'tanya', 'tingkat_stress', 'tingkat_stress_0', 'tingkat_stress_1', 'tingkat_stress_2', 'tingkat_stress_3', 'ucapan'] \n",
      "\n",
      "106 unique lemmatized words\n",
      " ['ada', 'akan', 'aku', 'anda', 'anyone', 'apa', 'apakah', 'bagaimana', 'bagus', 'bantu', 'berbicara', 'bicara', 'bisa', 'bisakah', 'bye', 'cara', 'cya', 'dan', 'dapat', 'dengan', 'denganmu', 'desain', 'developer', 'di', 'dibuat', 'dimaksud', 'disebabkan', 'efektif', 'gejala', 'good', 'goodbye', 'gtg', 'hai', 'hal', 'halo', 'hari', 'heyy', 'indah', 'ini', 'is', 'it', 'job', 'kabar', 'kamu', 'kasih', 'kecemasan', 'kembali', 'kerja', 'kesehatan', 'ketemu', 'kreator', 'kreatornya', 'lakukan', 'lebih', 'maksud', 'masalah', 'membantu', 'membuat', 'menciptakan', 'mengatasi', 'menghilangkan', 'menyebabkan', 'meredakan', 'mu', 'nama', 'namamu', 'nanti', 'ok', 'okay', 'okee', 'okie', 'okk', 'oleh', 'panggilan', 'panggilanmu', 'pengembang', 'pengembangnya', 'perasaan', 'pergi', 'punya', 'rendah', 'saja', 'sangat', 'saya', 'sedang', 'see', 'semoga', 'senang', 'siapa', 'siapp', 'strategi', 'stres', 'stress', 'telah', 'tenang', 'terima', 'terimakasih', 'thank', 'thanks', 'there', 'tinggi', 'tingkat', 'ttyl', 'untuk', 'yang', 'you'] \n",
      "\n"
     ]
    }
   ],
   "source": [
    "# lemmatize, lower each word and remove duplicates\n",
    "words = [lemmatizer.lemmatize(w.lower()) for w in words if w not in ignore_words]\n",
    "words = sorted(list(set(words)))\n",
    "# sort classes\n",
    "classes = sorted(list(set(classes)))\n",
    "# documents = combination between patterns and intents\n",
    "print (len(documents), \"documents\\n\", documents, \"\\n\")\n",
    "# classes = intents[tag]\n",
    "print (len(classes), \"classes\\n\", classes, \"\\n\")\n",
    "# words = all words, vocabulary\n",
    "print (len(words), \"unique lemmatized words\\n\", words, \"\\n\")\n",
    "pickle.dump(words,open('words.pkl','wb'))\n",
    "pickle.dump(classes,open('classes.pkl','wb'))"
   ]
  },
  {
   "cell_type": "markdown",
   "id": "4a818b1a",
   "metadata": {
    "id": "9f8f5df3",
    "papermill": {
     "duration": 0.007406,
     "end_time": "2023-02-23T05:12:44.166887",
     "exception": false,
     "start_time": "2023-02-23T05:12:44.159481",
     "status": "completed"
    },
    "tags": []
   },
   "source": [
    "# **Training Model**"
   ]
  },
  {
   "cell_type": "code",
   "execution_count": 9,
   "id": "e3df0178",
   "metadata": {
    "execution": {
     "iopub.execute_input": "2023-02-23T05:12:44.199587Z",
     "iopub.status.busy": "2023-02-23T05:12:44.199070Z",
     "iopub.status.idle": "2023-02-23T05:12:44.248365Z",
     "shell.execute_reply": "2023-02-23T05:12:44.246445Z"
    },
    "id": "d847cc41",
    "outputId": "0ca247d5-1c16-41c6-fbd8-4c22fb030298",
    "papermill": {
     "duration": 0.06165,
     "end_time": "2023-02-23T05:12:44.251354",
     "exception": false,
     "start_time": "2023-02-23T05:12:44.189704",
     "status": "completed"
    },
    "tags": []
   },
   "outputs": [
    {
     "name": "stdout",
     "output_type": "stream",
     "text": [
      "Training data created\n"
     ]
    }
   ],
   "source": [
    "# create our training data\n",
    "training = []\n",
    "# create an empty array for our output\n",
    "output_empty = [0] * len(classes)\n",
    "# training set, bag of words for each sentence\n",
    "for doc in documents:\n",
    "    # initialize our bag of words\n",
    "    bag = []\n",
    "    # list of tokenized words\n",
    "    pattern_words = doc[0]\n",
    "    # convert pattern_words in lower case\n",
    "    pattern_words = [lemmatizer.lemmatize(word.lower()) for word in pattern_words]\n",
    "    # create bag of words array,if word match found in current pattern then put 1 otherwise 0.[row * colm(263)]\n",
    "    for w in words:\n",
    "        bag.append(1) if w in pattern_words else bag.append(0)\n",
    "    \n",
    "    # in output array 0 value for each tag ang 1 value for matched tag.[row * colm(8)]\n",
    "    output_row = list(output_empty)\n",
    "    output_row[classes.index(doc[1])] = 1\n",
    "    \n",
    "    training.append([bag, output_row])\n",
    "# shuffle training and turn into np.array\n",
    "random.shuffle(training)\n",
    "training = np.array(training)\n",
    "# create train and test. X - patterns(words), Y - intents(tags)\n",
    "train_x = list(training[:,0])\n",
    "train_y = list(training[:,1])\n",
    "print(\"Training data created\")"
   ]
  },
  {
   "cell_type": "code",
   "execution_count": 10,
   "id": "f55abcf8",
   "metadata": {
    "execution": {
     "iopub.execute_input": "2023-02-23T05:12:44.268957Z",
     "iopub.status.busy": "2023-02-23T05:12:44.268414Z",
     "iopub.status.idle": "2023-02-23T05:12:44.274589Z",
     "shell.execute_reply": "2023-02-23T05:12:44.273124Z"
    },
    "id": "a002459e",
    "papermill": {
     "duration": 0.017842,
     "end_time": "2023-02-23T05:12:44.277079",
     "exception": false,
     "start_time": "2023-02-23T05:12:44.259237",
     "status": "completed"
    },
    "tags": []
   },
   "outputs": [],
   "source": [
    "from tensorflow.python.framework import ops\n",
    "ops.reset_default_graph()"
   ]
  },
  {
   "cell_type": "markdown",
   "id": "e26e37eb",
   "metadata": {
    "papermill": {
     "duration": 0.007489,
     "end_time": "2023-02-23T05:12:44.292236",
     "exception": false,
     "start_time": "2023-02-23T05:12:44.284747",
     "status": "completed"
    },
    "tags": []
   },
   "source": [
    "# **Build the model** "
   ]
  },
  {
   "cell_type": "code",
   "execution_count": 11,
   "id": "1b452b16",
   "metadata": {
    "execution": {
     "iopub.execute_input": "2023-02-23T05:12:44.325280Z",
     "iopub.status.busy": "2023-02-23T05:12:44.324495Z",
     "iopub.status.idle": "2023-02-23T05:12:44.484893Z",
     "shell.execute_reply": "2023-02-23T05:12:44.483363Z"
    },
    "id": "0326b0b8",
    "outputId": "3961859b-9073-4378-fdff-bf570249b7a9",
    "papermill": {
     "duration": 0.172929,
     "end_time": "2023-02-23T05:12:44.487916",
     "exception": false,
     "start_time": "2023-02-23T05:12:44.314987",
     "status": "completed"
    },
    "tags": []
   },
   "outputs": [
    {
     "name": "stdout",
     "output_type": "stream",
     "text": [
      "First layer: [[ 0.15011743  0.0970507  -0.07103215 ... -0.10040861 -0.13289784\n",
      "   0.13589278]\n",
      " [ 0.0366894   0.03165027  0.12249193 ... -0.09169336  0.11976612\n",
      "  -0.02522385]\n",
      " [-0.09291448  0.12480813  0.04549734 ... -0.13745677 -0.05613062\n",
      "  -0.05679071]\n",
      " ...\n",
      " [-0.03109999 -0.0753238  -0.09726171 ... -0.04403056  0.02472316\n",
      "   0.0910314 ]\n",
      " [-0.0497993   0.02873389 -0.08725252 ...  0.15938249 -0.14352742\n",
      "   0.07635112]\n",
      " [-0.15737627 -0.09886788 -0.07162287 ... -0.05536497 -0.12644018\n",
      "   0.12198389]]\n"
     ]
    }
   ],
   "source": [
    "# Create model - 3 layers. First layer 128 neurons, second layer 64 neurons and 3rd output layer contains number of neurons\n",
    "# equal to number of intents to predict output intent with softmax\n",
    "model = Sequential()\n",
    "model.add(Dense(128, input_shape=(len(train_x[0]),), activation='relu'))\n",
    "model.add(Dropout(0.5))\n",
    "model.add(Dense(64, activation='relu'))\n",
    "model.add(Dropout(0.5))\n",
    "model.add(Dense(len(train_y[0]), activation='softmax'))\n",
    "print(\"First layer:\",model.layers[0].get_weights()[0])"
   ]
  },
  {
   "cell_type": "code",
   "execution_count": 12,
   "id": "b4ada84d",
   "metadata": {
    "execution": {
     "iopub.execute_input": "2023-02-23T05:12:44.506211Z",
     "iopub.status.busy": "2023-02-23T05:12:44.505671Z",
     "iopub.status.idle": "2023-02-23T05:12:44.868268Z",
     "shell.execute_reply": "2023-02-23T05:12:44.866865Z"
    },
    "id": "33cf80df",
    "papermill": {
     "duration": 0.375517,
     "end_time": "2023-02-23T05:12:44.871525",
     "exception": false,
     "start_time": "2023-02-23T05:12:44.496008",
     "status": "completed"
    },
    "tags": []
   },
   "outputs": [],
   "source": [
    "# Compile model. Stochastic gradient descent with Nesterov accelerated gradient gives good results for this model\n",
    "# sgd = SGD(lr=0.01, decay=1e-6, momentum=0.9, nesterov=True)\n",
    "model.compile(loss='categorical_crossentropy', optimizer='adam', metrics=['accuracy'])"
   ]
  },
  {
   "cell_type": "code",
   "execution_count": 13,
   "id": "f836664a",
   "metadata": {
    "execution": {
     "iopub.execute_input": "2023-02-23T05:12:44.889267Z",
     "iopub.status.busy": "2023-02-23T05:12:44.888766Z",
     "iopub.status.idle": "2023-02-23T05:13:22.554903Z",
     "shell.execute_reply": "2023-02-23T05:13:22.553344Z"
    },
    "id": "dd9caaa2",
    "outputId": "e1a9fb02-ea70-49ea-c742-de37f795d0c6",
    "papermill": {
     "duration": 37.679106,
     "end_time": "2023-02-23T05:13:22.558445",
     "exception": false,
     "start_time": "2023-02-23T05:12:44.879339",
     "status": "completed"
    },
    "tags": []
   },
   "outputs": [
    {
     "name": "stdout",
     "output_type": "stream",
     "text": [
      "Epoch 1/200\n",
      "16/16 [==============================] - 1s 3ms/step - loss: 2.5397 - accuracy: 0.1139 \n",
      "Epoch 2/200\n",
      "16/16 [==============================] - 0s 2ms/step - loss: 2.4404 - accuracy: 0.2278\n",
      "Epoch 3/200\n",
      "16/16 [==============================] - 0s 2ms/step - loss: 2.4146 - accuracy: 0.1899\n",
      "Epoch 4/200\n",
      "16/16 [==============================] - 0s 2ms/step - loss: 2.2849 - accuracy: 0.2405\n",
      "Epoch 5/200\n",
      "16/16 [==============================] - 0s 2ms/step - loss: 2.1988 - accuracy: 0.2785\n",
      "Epoch 6/200\n",
      "16/16 [==============================] - 0s 2ms/step - loss: 2.1697 - accuracy: 0.2532\n",
      "Epoch 7/200\n",
      "16/16 [==============================] - 0s 3ms/step - loss: 1.9590 - accuracy: 0.4051\n",
      "Epoch 8/200\n",
      "16/16 [==============================] - 0s 3ms/step - loss: 1.8736 - accuracy: 0.3924\n",
      "Epoch 9/200\n",
      "16/16 [==============================] - 0s 3ms/step - loss: 1.8761 - accuracy: 0.3038\n",
      "Epoch 10/200\n",
      "16/16 [==============================] - 0s 3ms/step - loss: 1.7898 - accuracy: 0.4304\n",
      "Epoch 11/200\n",
      "16/16 [==============================] - 0s 2ms/step - loss: 1.6904 - accuracy: 0.4177\n",
      "Epoch 12/200\n",
      "16/16 [==============================] - 0s 2ms/step - loss: 1.6848 - accuracy: 0.4051\n",
      "Epoch 13/200\n",
      "16/16 [==============================] - 0s 3ms/step - loss: 1.5670 - accuracy: 0.5063\n",
      "Epoch 14/200\n",
      "16/16 [==============================] - 0s 2ms/step - loss: 1.4360 - accuracy: 0.6329\n",
      "Epoch 15/200\n",
      "16/16 [==============================] - 0s 3ms/step - loss: 1.3030 - accuracy: 0.6456\n",
      "Epoch 16/200\n",
      "16/16 [==============================] - 0s 3ms/step - loss: 1.3551 - accuracy: 0.6203\n",
      "Epoch 17/200\n",
      "16/16 [==============================] - 0s 2ms/step - loss: 1.1721 - accuracy: 0.6962\n",
      "Epoch 18/200\n",
      "16/16 [==============================] - 0s 3ms/step - loss: 1.1482 - accuracy: 0.6835\n",
      "Epoch 19/200\n",
      "16/16 [==============================] - 0s 2ms/step - loss: 1.1411 - accuracy: 0.6582\n",
      "Epoch 20/200\n",
      "16/16 [==============================] - 0s 2ms/step - loss: 1.0508 - accuracy: 0.6709\n",
      "Epoch 21/200\n",
      "16/16 [==============================] - 0s 2ms/step - loss: 0.9358 - accuracy: 0.7722\n",
      "Epoch 22/200\n",
      "16/16 [==============================] - 0s 2ms/step - loss: 0.8522 - accuracy: 0.7975\n",
      "Epoch 23/200\n",
      "16/16 [==============================] - 0s 2ms/step - loss: 0.9484 - accuracy: 0.7215\n",
      "Epoch 24/200\n",
      "16/16 [==============================] - 0s 2ms/step - loss: 1.0001 - accuracy: 0.7089\n",
      "Epoch 25/200\n",
      "16/16 [==============================] - 0s 2ms/step - loss: 0.7792 - accuracy: 0.8228\n",
      "Epoch 26/200\n",
      "16/16 [==============================] - 0s 2ms/step - loss: 0.6917 - accuracy: 0.8354\n",
      "Epoch 27/200\n",
      "16/16 [==============================] - 0s 3ms/step - loss: 0.7762 - accuracy: 0.7342\n",
      "Epoch 28/200\n",
      "16/16 [==============================] - 0s 2ms/step - loss: 0.7270 - accuracy: 0.7975\n",
      "Epoch 29/200\n",
      "16/16 [==============================] - 0s 3ms/step - loss: 0.6902 - accuracy: 0.8228\n",
      "Epoch 30/200\n",
      "16/16 [==============================] - 0s 2ms/step - loss: 0.6031 - accuracy: 0.8734\n",
      "Epoch 31/200\n",
      "16/16 [==============================] - 0s 2ms/step - loss: 0.5783 - accuracy: 0.8354\n",
      "Epoch 32/200\n",
      "16/16 [==============================] - 0s 2ms/step - loss: 0.5544 - accuracy: 0.8734\n",
      "Epoch 33/200\n",
      "16/16 [==============================] - 0s 2ms/step - loss: 0.4818 - accuracy: 0.9114\n",
      "Epoch 34/200\n",
      "16/16 [==============================] - 0s 2ms/step - loss: 0.5034 - accuracy: 0.8608\n",
      "Epoch 35/200\n",
      "16/16 [==============================] - 0s 2ms/step - loss: 0.5452 - accuracy: 0.8354\n",
      "Epoch 36/200\n",
      "16/16 [==============================] - 0s 2ms/step - loss: 0.4738 - accuracy: 0.8354\n",
      "Epoch 37/200\n",
      "16/16 [==============================] - 0s 2ms/step - loss: 0.4019 - accuracy: 0.8987\n",
      "Epoch 38/200\n",
      "16/16 [==============================] - 0s 2ms/step - loss: 0.4242 - accuracy: 0.8734\n",
      "Epoch 39/200\n",
      "16/16 [==============================] - 0s 2ms/step - loss: 0.5034 - accuracy: 0.8861\n",
      "Epoch 40/200\n",
      "16/16 [==============================] - 0s 2ms/step - loss: 0.4159 - accuracy: 0.9114\n",
      "Epoch 41/200\n",
      "16/16 [==============================] - 0s 2ms/step - loss: 0.4235 - accuracy: 0.8861\n",
      "Epoch 42/200\n",
      "16/16 [==============================] - 0s 2ms/step - loss: 0.3562 - accuracy: 0.8987\n",
      "Epoch 43/200\n",
      "16/16 [==============================] - 0s 2ms/step - loss: 0.2728 - accuracy: 0.9494\n",
      "Epoch 44/200\n",
      "16/16 [==============================] - 0s 2ms/step - loss: 0.3641 - accuracy: 0.9114\n",
      "Epoch 45/200\n",
      "16/16 [==============================] - 0s 2ms/step - loss: 0.2767 - accuracy: 0.9494\n",
      "Epoch 46/200\n",
      "16/16 [==============================] - 0s 2ms/step - loss: 0.3209 - accuracy: 0.9241\n",
      "Epoch 47/200\n",
      "16/16 [==============================] - 0s 2ms/step - loss: 0.2768 - accuracy: 0.9620\n",
      "Epoch 48/200\n",
      "16/16 [==============================] - 0s 2ms/step - loss: 0.2138 - accuracy: 0.9747\n",
      "Epoch 49/200\n",
      "16/16 [==============================] - 0s 2ms/step - loss: 0.3138 - accuracy: 0.8481\n",
      "Epoch 50/200\n",
      "16/16 [==============================] - 0s 3ms/step - loss: 0.3220 - accuracy: 0.9367\n",
      "Epoch 51/200\n",
      "16/16 [==============================] - 0s 3ms/step - loss: 0.3226 - accuracy: 0.9494\n",
      "Epoch 52/200\n",
      "16/16 [==============================] - 0s 2ms/step - loss: 0.2009 - accuracy: 0.9620\n",
      "Epoch 53/200\n",
      "16/16 [==============================] - 0s 2ms/step - loss: 0.2337 - accuracy: 0.9494\n",
      "Epoch 54/200\n",
      "16/16 [==============================] - 0s 3ms/step - loss: 0.2324 - accuracy: 0.9367\n",
      "Epoch 55/200\n",
      "16/16 [==============================] - 0s 3ms/step - loss: 0.2467 - accuracy: 0.9620\n",
      "Epoch 56/200\n",
      "16/16 [==============================] - 0s 3ms/step - loss: 0.2532 - accuracy: 0.9494\n",
      "Epoch 57/200\n",
      "16/16 [==============================] - 0s 3ms/step - loss: 0.2522 - accuracy: 0.9367\n",
      "Epoch 58/200\n",
      "16/16 [==============================] - 0s 2ms/step - loss: 0.2777 - accuracy: 0.9494\n",
      "Epoch 59/200\n",
      "16/16 [==============================] - 0s 2ms/step - loss: 0.2967 - accuracy: 0.8987\n",
      "Epoch 60/200\n",
      "16/16 [==============================] - 0s 2ms/step - loss: 0.1733 - accuracy: 0.9873\n",
      "Epoch 61/200\n",
      "16/16 [==============================] - 0s 2ms/step - loss: 0.1426 - accuracy: 0.9747\n",
      "Epoch 62/200\n",
      "16/16 [==============================] - 0s 2ms/step - loss: 0.1882 - accuracy: 0.9620\n",
      "Epoch 63/200\n",
      "16/16 [==============================] - 0s 3ms/step - loss: 0.2370 - accuracy: 0.9494\n",
      "Epoch 64/200\n",
      "16/16 [==============================] - 0s 3ms/step - loss: 0.1849 - accuracy: 0.9367\n",
      "Epoch 65/200\n",
      "16/16 [==============================] - 0s 3ms/step - loss: 0.2308 - accuracy: 0.9114\n",
      "Epoch 66/200\n",
      "16/16 [==============================] - 0s 3ms/step - loss: 0.1751 - accuracy: 0.9620\n",
      "Epoch 67/200\n",
      "16/16 [==============================] - 0s 3ms/step - loss: 0.1806 - accuracy: 0.9494\n",
      "Epoch 68/200\n",
      "16/16 [==============================] - 0s 3ms/step - loss: 0.1647 - accuracy: 0.9873\n",
      "Epoch 69/200\n",
      "16/16 [==============================] - 0s 3ms/step - loss: 0.1595 - accuracy: 0.9620\n",
      "Epoch 70/200\n",
      "16/16 [==============================] - 0s 3ms/step - loss: 0.1563 - accuracy: 0.9367\n",
      "Epoch 71/200\n",
      "16/16 [==============================] - 0s 3ms/step - loss: 0.2134 - accuracy: 0.9367\n",
      "Epoch 72/200\n",
      "16/16 [==============================] - 0s 4ms/step - loss: 0.1421 - accuracy: 0.9620\n",
      "Epoch 73/200\n",
      "16/16 [==============================] - 0s 5ms/step - loss: 0.1249 - accuracy: 0.9747\n",
      "Epoch 74/200\n",
      "16/16 [==============================] - 0s 15ms/step - loss: 0.1329 - accuracy: 0.9494\n",
      "Epoch 75/200\n",
      "16/16 [==============================] - 0s 13ms/step - loss: 0.1083 - accuracy: 0.9873\n",
      "Epoch 76/200\n",
      "16/16 [==============================] - 0s 10ms/step - loss: 0.1658 - accuracy: 0.9367\n",
      "Epoch 77/200\n",
      "16/16 [==============================] - 0s 9ms/step - loss: 0.1910 - accuracy: 0.9494\n",
      "Epoch 78/200\n",
      "16/16 [==============================] - 0s 10ms/step - loss: 0.1455 - accuracy: 0.9367\n",
      "Epoch 79/200\n",
      "16/16 [==============================] - 0s 9ms/step - loss: 0.1393 - accuracy: 0.9620\n",
      "Epoch 80/200\n",
      "16/16 [==============================] - 0s 8ms/step - loss: 0.1592 - accuracy: 0.9494\n",
      "Epoch 81/200\n",
      "16/16 [==============================] - 0s 17ms/step - loss: 0.1684 - accuracy: 0.9367\n",
      "Epoch 82/200\n",
      "16/16 [==============================] - 0s 9ms/step - loss: 0.1305 - accuracy: 0.9620\n",
      "Epoch 83/200\n",
      "16/16 [==============================] - 0s 8ms/step - loss: 0.1566 - accuracy: 0.9747\n",
      "Epoch 84/200\n",
      "16/16 [==============================] - 0s 9ms/step - loss: 0.1088 - accuracy: 0.9747\n",
      "Epoch 85/200\n",
      "16/16 [==============================] - 0s 9ms/step - loss: 0.0855 - accuracy: 0.9873\n",
      "Epoch 86/200\n",
      "16/16 [==============================] - 0s 8ms/step - loss: 0.1943 - accuracy: 0.9367\n",
      "Epoch 87/200\n",
      "16/16 [==============================] - 0s 8ms/step - loss: 0.1501 - accuracy: 0.9620\n",
      "Epoch 88/200\n",
      "16/16 [==============================] - 0s 7ms/step - loss: 0.1160 - accuracy: 0.9873\n",
      "Epoch 89/200\n",
      "16/16 [==============================] - 0s 7ms/step - loss: 0.1340 - accuracy: 0.9620\n",
      "Epoch 90/200\n",
      "16/16 [==============================] - 0s 7ms/step - loss: 0.1613 - accuracy: 0.9367\n",
      "Epoch 91/200\n",
      "16/16 [==============================] - 0s 7ms/step - loss: 0.1137 - accuracy: 0.9620\n",
      "Epoch 92/200\n",
      "16/16 [==============================] - 0s 7ms/step - loss: 0.0915 - accuracy: 1.0000\n",
      "Epoch 93/200\n",
      "16/16 [==============================] - 0s 7ms/step - loss: 0.0779 - accuracy: 1.0000\n",
      "Epoch 94/200\n",
      "16/16 [==============================] - 0s 7ms/step - loss: 0.0662 - accuracy: 0.9873\n",
      "Epoch 95/200\n",
      "16/16 [==============================] - 0s 7ms/step - loss: 0.1105 - accuracy: 0.9747\n",
      "Epoch 96/200\n",
      "16/16 [==============================] - 0s 7ms/step - loss: 0.0833 - accuracy: 0.9747\n",
      "Epoch 97/200\n",
      "16/16 [==============================] - 0s 6ms/step - loss: 0.1319 - accuracy: 0.9620\n",
      "Epoch 98/200\n",
      "16/16 [==============================] - 0s 6ms/step - loss: 0.1229 - accuracy: 0.9747\n",
      "Epoch 99/200\n",
      "16/16 [==============================] - 0s 6ms/step - loss: 0.0879 - accuracy: 0.9747\n",
      "Epoch 100/200\n",
      "16/16 [==============================] - 0s 6ms/step - loss: 0.1235 - accuracy: 0.9620\n",
      "Epoch 101/200\n",
      "16/16 [==============================] - 0s 6ms/step - loss: 0.1127 - accuracy: 0.9873\n",
      "Epoch 102/200\n",
      "16/16 [==============================] - 0s 6ms/step - loss: 0.0713 - accuracy: 0.9873\n",
      "Epoch 103/200\n",
      "16/16 [==============================] - 0s 7ms/step - loss: 0.1486 - accuracy: 0.9620\n",
      "Epoch 104/200\n",
      "16/16 [==============================] - 0s 6ms/step - loss: 0.0523 - accuracy: 0.9873\n",
      "Epoch 105/200\n",
      "16/16 [==============================] - 0s 6ms/step - loss: 0.0951 - accuracy: 0.9620\n",
      "Epoch 106/200\n",
      "16/16 [==============================] - 0s 13ms/step - loss: 0.0638 - accuracy: 0.9873\n",
      "Epoch 107/200\n",
      "16/16 [==============================] - 0s 9ms/step - loss: 0.1109 - accuracy: 0.9747\n",
      "Epoch 108/200\n",
      "16/16 [==============================] - 0s 7ms/step - loss: 0.0940 - accuracy: 0.9620\n",
      "Epoch 109/200\n",
      "16/16 [==============================] - 0s 7ms/step - loss: 0.0533 - accuracy: 1.0000\n",
      "Epoch 110/200\n",
      "16/16 [==============================] - 0s 8ms/step - loss: 0.0856 - accuracy: 0.9747\n",
      "Epoch 111/200\n",
      "16/16 [==============================] - 0s 7ms/step - loss: 0.1249 - accuracy: 0.9620\n",
      "Epoch 112/200\n",
      "16/16 [==============================] - 0s 7ms/step - loss: 0.0579 - accuracy: 1.0000\n",
      "Epoch 113/200\n",
      "16/16 [==============================] - 0s 7ms/step - loss: 0.1159 - accuracy: 0.9747\n",
      "Epoch 114/200\n",
      "16/16 [==============================] - 0s 6ms/step - loss: 0.1062 - accuracy: 0.9620\n",
      "Epoch 115/200\n",
      "16/16 [==============================] - 0s 6ms/step - loss: 0.0960 - accuracy: 0.9873\n",
      "Epoch 116/200\n",
      "16/16 [==============================] - 0s 6ms/step - loss: 0.1023 - accuracy: 0.9747\n",
      "Epoch 117/200\n",
      "16/16 [==============================] - 0s 7ms/step - loss: 0.0796 - accuracy: 0.9747\n",
      "Epoch 118/200\n",
      "16/16 [==============================] - 0s 6ms/step - loss: 0.0523 - accuracy: 0.9873\n",
      "Epoch 119/200\n",
      "16/16 [==============================] - 0s 6ms/step - loss: 0.1498 - accuracy: 0.9494\n",
      "Epoch 120/200\n",
      "16/16 [==============================] - 0s 6ms/step - loss: 0.1199 - accuracy: 0.9620\n",
      "Epoch 121/200\n",
      "16/16 [==============================] - 0s 6ms/step - loss: 0.0860 - accuracy: 0.9747\n",
      "Epoch 122/200\n",
      "16/16 [==============================] - 0s 6ms/step - loss: 0.0693 - accuracy: 0.9873\n",
      "Epoch 123/200\n",
      "16/16 [==============================] - 0s 7ms/step - loss: 0.0796 - accuracy: 0.9873\n",
      "Epoch 124/200\n",
      "16/16 [==============================] - 0s 6ms/step - loss: 0.0643 - accuracy: 0.9873\n",
      "Epoch 125/200\n",
      "16/16 [==============================] - 0s 6ms/step - loss: 0.0902 - accuracy: 0.9620\n",
      "Epoch 126/200\n",
      "16/16 [==============================] - 0s 6ms/step - loss: 0.0661 - accuracy: 1.0000\n",
      "Epoch 127/200\n",
      "16/16 [==============================] - 0s 6ms/step - loss: 0.0612 - accuracy: 0.9873\n",
      "Epoch 128/200\n",
      "16/16 [==============================] - 0s 7ms/step - loss: 0.0471 - accuracy: 0.9873\n",
      "Epoch 129/200\n",
      "16/16 [==============================] - 0s 6ms/step - loss: 0.0576 - accuracy: 0.9873\n",
      "Epoch 130/200\n",
      "16/16 [==============================] - 0s 6ms/step - loss: 0.0767 - accuracy: 0.9747\n",
      "Epoch 131/200\n",
      "16/16 [==============================] - 0s 7ms/step - loss: 0.0769 - accuracy: 0.9747\n",
      "Epoch 132/200\n",
      "16/16 [==============================] - 0s 6ms/step - loss: 0.0689 - accuracy: 0.9873\n",
      "Epoch 133/200\n",
      "16/16 [==============================] - 0s 6ms/step - loss: 0.0702 - accuracy: 0.9747\n",
      "Epoch 134/200\n",
      "16/16 [==============================] - 0s 6ms/step - loss: 0.0893 - accuracy: 0.9747\n",
      "Epoch 135/200\n",
      "16/16 [==============================] - 0s 7ms/step - loss: 0.0424 - accuracy: 1.0000\n",
      "Epoch 136/200\n",
      "16/16 [==============================] - 0s 6ms/step - loss: 0.0525 - accuracy: 0.9873\n",
      "Epoch 137/200\n",
      "16/16 [==============================] - 0s 13ms/step - loss: 0.0440 - accuracy: 1.0000\n",
      "Epoch 138/200\n",
      "16/16 [==============================] - 0s 6ms/step - loss: 0.0541 - accuracy: 0.9747\n",
      "Epoch 139/200\n",
      "16/16 [==============================] - 0s 9ms/step - loss: 0.0499 - accuracy: 0.9873\n",
      "Epoch 140/200\n",
      "16/16 [==============================] - 0s 7ms/step - loss: 0.0633 - accuracy: 0.9873\n",
      "Epoch 141/200\n",
      "16/16 [==============================] - 0s 7ms/step - loss: 0.0555 - accuracy: 0.9873\n",
      "Epoch 142/200\n",
      "16/16 [==============================] - 0s 6ms/step - loss: 0.0465 - accuracy: 0.9873\n",
      "Epoch 143/200\n",
      "16/16 [==============================] - 0s 6ms/step - loss: 0.0964 - accuracy: 0.9747\n",
      "Epoch 144/200\n",
      "16/16 [==============================] - 0s 7ms/step - loss: 0.0439 - accuracy: 1.0000\n",
      "Epoch 145/200\n",
      "16/16 [==============================] - 0s 12ms/step - loss: 0.0251 - accuracy: 1.0000\n",
      "Epoch 146/200\n",
      "16/16 [==============================] - 0s 8ms/step - loss: 0.0788 - accuracy: 0.9747\n",
      "Epoch 147/200\n",
      "16/16 [==============================] - 0s 7ms/step - loss: 0.0383 - accuracy: 1.0000\n",
      "Epoch 148/200\n",
      "16/16 [==============================] - 0s 7ms/step - loss: 0.1124 - accuracy: 0.9747\n",
      "Epoch 149/200\n",
      "16/16 [==============================] - 0s 6ms/step - loss: 0.0655 - accuracy: 0.9747\n",
      "Epoch 150/200\n",
      "16/16 [==============================] - 0s 6ms/step - loss: 0.0709 - accuracy: 0.9747\n",
      "Epoch 151/200\n",
      "16/16 [==============================] - 0s 6ms/step - loss: 0.0733 - accuracy: 0.9747\n",
      "Epoch 152/200\n",
      "16/16 [==============================] - 0s 6ms/step - loss: 0.0409 - accuracy: 0.9873\n",
      "Epoch 153/200\n",
      "16/16 [==============================] - 0s 6ms/step - loss: 0.0686 - accuracy: 0.9620\n",
      "Epoch 154/200\n",
      "16/16 [==============================] - 0s 6ms/step - loss: 0.0494 - accuracy: 1.0000\n",
      "Epoch 155/200\n",
      "16/16 [==============================] - 0s 6ms/step - loss: 0.0231 - accuracy: 1.0000\n",
      "Epoch 156/200\n",
      "16/16 [==============================] - 0s 7ms/step - loss: 0.0574 - accuracy: 0.9873\n",
      "Epoch 157/200\n",
      "16/16 [==============================] - 0s 7ms/step - loss: 0.0447 - accuracy: 1.0000\n",
      "Epoch 158/200\n",
      "16/16 [==============================] - 0s 6ms/step - loss: 0.0297 - accuracy: 1.0000\n",
      "Epoch 159/200\n",
      "16/16 [==============================] - 0s 6ms/step - loss: 0.0349 - accuracy: 1.0000\n",
      "Epoch 160/200\n",
      "16/16 [==============================] - 0s 7ms/step - loss: 0.0927 - accuracy: 0.9747\n",
      "Epoch 161/200\n",
      "16/16 [==============================] - 0s 7ms/step - loss: 0.0114 - accuracy: 1.0000\n",
      "Epoch 162/200\n",
      "16/16 [==============================] - 0s 6ms/step - loss: 0.0842 - accuracy: 0.9747\n",
      "Epoch 163/200\n",
      "16/16 [==============================] - 0s 6ms/step - loss: 0.0314 - accuracy: 0.9873\n",
      "Epoch 164/200\n",
      "16/16 [==============================] - 0s 6ms/step - loss: 0.0594 - accuracy: 0.9747\n",
      "Epoch 165/200\n",
      "16/16 [==============================] - 0s 6ms/step - loss: 0.0446 - accuracy: 0.9873\n",
      "Epoch 166/200\n",
      "16/16 [==============================] - 0s 13ms/step - loss: 0.0823 - accuracy: 0.9747\n",
      "Epoch 167/200\n",
      "16/16 [==============================] - 0s 6ms/step - loss: 0.0389 - accuracy: 0.9873\n",
      "Epoch 168/200\n",
      "16/16 [==============================] - 0s 6ms/step - loss: 0.0585 - accuracy: 0.9873\n",
      "Epoch 169/200\n",
      "16/16 [==============================] - 0s 6ms/step - loss: 0.0817 - accuracy: 0.9873\n",
      "Epoch 170/200\n",
      "16/16 [==============================] - 0s 6ms/step - loss: 0.0536 - accuracy: 0.9873\n",
      "Epoch 171/200\n",
      "16/16 [==============================] - 0s 6ms/step - loss: 0.0215 - accuracy: 1.0000\n",
      "Epoch 172/200\n",
      "16/16 [==============================] - 0s 6ms/step - loss: 0.0366 - accuracy: 1.0000\n",
      "Epoch 173/200\n",
      "16/16 [==============================] - 0s 7ms/step - loss: 0.0666 - accuracy: 0.9620\n",
      "Epoch 174/200\n",
      "16/16 [==============================] - 0s 6ms/step - loss: 0.0474 - accuracy: 0.9873\n",
      "Epoch 175/200\n",
      "16/16 [==============================] - 0s 6ms/step - loss: 0.0523 - accuracy: 0.9747\n",
      "Epoch 176/200\n",
      "16/16 [==============================] - 0s 6ms/step - loss: 0.0791 - accuracy: 0.9873\n",
      "Epoch 177/200\n",
      "16/16 [==============================] - 0s 6ms/step - loss: 0.0347 - accuracy: 1.0000\n",
      "Epoch 178/200\n",
      "16/16 [==============================] - 0s 7ms/step - loss: 0.0337 - accuracy: 0.9873\n",
      "Epoch 179/200\n",
      "16/16 [==============================] - 0s 6ms/step - loss: 0.0613 - accuracy: 0.9873\n",
      "Epoch 180/200\n",
      "16/16 [==============================] - 0s 7ms/step - loss: 0.0407 - accuracy: 1.0000\n",
      "Epoch 181/200\n",
      "16/16 [==============================] - 0s 8ms/step - loss: 0.0234 - accuracy: 1.0000\n",
      "Epoch 182/200\n",
      "16/16 [==============================] - 0s 10ms/step - loss: 0.0955 - accuracy: 0.9747\n",
      "Epoch 183/200\n",
      "16/16 [==============================] - 0s 7ms/step - loss: 0.0128 - accuracy: 1.0000\n",
      "Epoch 184/200\n",
      "16/16 [==============================] - 0s 7ms/step - loss: 0.0506 - accuracy: 0.9873\n",
      "Epoch 185/200\n",
      "16/16 [==============================] - 0s 6ms/step - loss: 0.0873 - accuracy: 0.9620\n",
      "Epoch 186/200\n",
      "16/16 [==============================] - 0s 7ms/step - loss: 0.0350 - accuracy: 1.0000\n",
      "Epoch 187/200\n",
      "16/16 [==============================] - 0s 8ms/step - loss: 0.0310 - accuracy: 0.9873\n",
      "Epoch 188/200\n",
      "16/16 [==============================] - 0s 12ms/step - loss: 0.0400 - accuracy: 0.9747\n",
      "Epoch 189/200\n",
      "16/16 [==============================] - 0s 7ms/step - loss: 0.0325 - accuracy: 1.0000\n",
      "Epoch 190/200\n",
      "16/16 [==============================] - 0s 14ms/step - loss: 0.0551 - accuracy: 0.9747\n",
      "Epoch 191/200\n",
      "16/16 [==============================] - 0s 7ms/step - loss: 0.0182 - accuracy: 1.0000\n",
      "Epoch 192/200\n",
      "16/16 [==============================] - 0s 8ms/step - loss: 0.0441 - accuracy: 0.9873\n",
      "Epoch 193/200\n",
      "16/16 [==============================] - 0s 11ms/step - loss: 0.0602 - accuracy: 0.9747\n",
      "Epoch 194/200\n",
      "16/16 [==============================] - 0s 8ms/step - loss: 0.0221 - accuracy: 1.0000\n",
      "Epoch 195/200\n",
      "16/16 [==============================] - 0s 8ms/step - loss: 0.0800 - accuracy: 0.9747\n",
      "Epoch 196/200\n",
      "16/16 [==============================] - 0s 7ms/step - loss: 0.0233 - accuracy: 1.0000\n",
      "Epoch 197/200\n",
      "16/16 [==============================] - 0s 6ms/step - loss: 0.0673 - accuracy: 0.9873\n",
      "Epoch 198/200\n",
      "16/16 [==============================] - 0s 6ms/step - loss: 0.0292 - accuracy: 1.0000\n",
      "Epoch 199/200\n",
      "16/16 [==============================] - 0s 6ms/step - loss: 0.0051 - accuracy: 1.0000\n",
      "Epoch 200/200\n",
      "16/16 [==============================] - 0s 7ms/step - loss: 0.0203 - accuracy: 1.0000\n",
      "model created\n"
     ]
    }
   ],
   "source": [
    "#fitting and saving the model \n",
    "hist = model.fit(np.array(train_x), np.array(train_y), epochs=200, batch_size=5, verbose=1)\n",
    "model.save('chatbot_model.h5', hist)\n",
    "\n",
    "print(\"model created\")\n"
   ]
  },
  {
   "cell_type": "code",
   "execution_count": null,
   "id": "c85fea9a",
   "metadata": {},
   "outputs": [],
   "source": []
  }
 ],
 "metadata": {
  "kernelspec": {
   "display_name": "Python 3",
   "language": "python",
   "name": "python3"
  },
  "language_info": {
   "codemirror_mode": {
    "name": "ipython",
    "version": 3
   },
   "file_extension": ".py",
   "mimetype": "text/x-python",
   "name": "python",
   "nbconvert_exporter": "python",
   "pygments_lexer": "ipython3",
   "version": "3.11.6"
  },
  "papermill": {
   "default_parameters": {},
   "duration": 65.361653,
   "end_time": "2023-02-23T05:13:25.834630",
   "environment_variables": {},
   "exception": null,
   "input_path": "__notebook__.ipynb",
   "output_path": "__notebook__.ipynb",
   "parameters": {},
   "start_time": "2023-02-23T05:12:20.472977",
   "version": "2.3.4"
  }
 },
 "nbformat": 4,
 "nbformat_minor": 5
}
